{
 "cells": [
  {
   "cell_type": "markdown",
   "metadata": {},
   "source": [
    "## Submission for Week 1 Tasks"
   ]
  },
  {
   "cell_type": "markdown",
   "metadata": {},
   "source": [
    "### And please do remember to contact me if I can help\n",
    "\n",
    "And I love to connect: https://www.linkedin.com/in/ian-kisali/"
   ]
  },
  {
   "cell_type": "code",
   "execution_count": 15,
   "metadata": {},
   "outputs": [],
   "source": [
    "# First let's do an import. If you get an Import Error, double check that your Kernel is correct..\n",
    "\n",
    "from dotenv import load_dotenv\n"
   ]
  },
  {
   "cell_type": "code",
   "execution_count": 16,
   "metadata": {},
   "outputs": [
    {
     "data": {
      "text/plain": [
       "True"
      ]
     },
     "execution_count": 16,
     "metadata": {},
     "output_type": "execute_result"
    }
   ],
   "source": [
    "# Next it's time to load the API keys into environment variables\n",
    "# If this returns false, see the next cell!\n",
    "\n",
    "load_dotenv(override=True)"
   ]
  },
  {
   "cell_type": "code",
   "execution_count": 17,
   "metadata": {},
   "outputs": [
    {
     "name": "stdout",
     "output_type": "stream",
     "text": [
      "DeepSeek API Key exists and begins sk-dd7bf\n"
     ]
    }
   ],
   "source": [
    "# Check the key - if you're not using DeepSeek, check whichever key you're using! Ollama doesn't need a key.\n",
    "\n",
    "import os\n",
    "deepseek_api_key = os.getenv('DEEPSEEK_API_KEY')\n",
    "\n",
    "if deepseek_api_key:\n",
    "    print(f\"DeepSeek API Key exists and begins {deepseek_api_key[:8]}\")\n",
    "else:\n",
    "    print(\"DeepSeek API Key not set - please head to the troubleshooting guide in the setup folder\")"
   ]
  },
  {
   "cell_type": "code",
   "execution_count": 18,
   "metadata": {},
   "outputs": [],
   "source": [
    "# And now - the all important import statement\n",
    "# If you get an import error - head over to troubleshooting in the Setup folder\n",
    "\n",
    "from openai import OpenAI"
   ]
  },
  {
   "cell_type": "code",
   "execution_count": 19,
   "metadata": {},
   "outputs": [],
   "source": [
    "# And now we'll create an instance of the OpenAI class\n",
    "# If you're not sure what it means to create an instance of a class - head over to the guides folder (guide 6)!\n",
    "# If you get a NameError - head over to the guides folder (guide 6)to learn about NameErrors - always instantly fixable\n",
    "# If you're not using DeepSeek, you just need to slightly modify this - precise instructions are in the AI APIs guide (guide 9)\n",
    "\n",
    "deepseek_client = OpenAI(api_key=deepseek_api_key, base_url=\"https://api.deepseek.com\")"
   ]
  },
  {
   "cell_type": "code",
   "execution_count": 20,
   "metadata": {},
   "outputs": [
    {
     "name": "stdout",
     "output_type": "stream",
     "text": [
      "SyncPage[Model](data=[Model(id='deepseek-chat', created=None, object='model', owned_by='deepseek'), Model(id='deepseek-reasoner', created=None, object='model', owned_by='deepseek')], object='list')\n"
     ]
    }
   ],
   "source": [
    "# Models existing in DeepSeek\n",
    "print(deepseek_client.models.list())"
   ]
  },
  {
   "cell_type": "code",
   "execution_count": 21,
   "metadata": {},
   "outputs": [],
   "source": [
    "# Create a list of messages in the familiar OpenAI format\n",
    "\n",
    "messages = [{\"role\": \"user\", \"content\": \"What is 2+2?\"}]"
   ]
  },
  {
   "cell_type": "code",
   "execution_count": 22,
   "metadata": {},
   "outputs": [
    {
     "name": "stdout",
     "output_type": "stream",
     "text": [
      "The sum of 2 and 2 is **4**.  \n",
      "\n",
      "\\[ 2 + 2 = 4 \\]  \n",
      "\n",
      "Let me know if you'd like help with anything else!\n"
     ]
    }
   ],
   "source": [
    "# And now call it! Any problems, head to the troubleshooting guide\n",
    "# This uses deepseek-chat, the incredibly cheap model\n",
    "# If you get a NameError, head to the guides folder (guide 6) to learn about NameErrors - always instantly fixable\n",
    "\n",
    "response = deepseek_client.chat.completions.create(\n",
    "    model=\"deepseek-chat\",\n",
    "    messages=messages\n",
    ")\n",
    "\n",
    "print(response.choices[0].message.content)\n"
   ]
  },
  {
   "cell_type": "code",
   "execution_count": 23,
   "metadata": {},
   "outputs": [],
   "source": [
    "# And now - let's ask for a question:\n",
    "\n",
    "question = \"Please propose a hard, challenging question to assess someone's IQ. Respond only with the question.\"\n",
    "messages = [{\"role\": \"user\", \"content\": question}]\n"
   ]
  },
  {
   "cell_type": "code",
   "execution_count": 24,
   "metadata": {},
   "outputs": [
    {
     "name": "stdout",
     "output_type": "stream",
     "text": [
      "If you have three boxes—one containing only apples, one containing only oranges, and one containing both apples and oranges—but all the boxes are mislabeled, what is the minimum number of fruits you must draw (and from which box) to correctly relabel all the boxes?\n"
     ]
    }
   ],
   "source": [
    "# ask it - this uses deepseek-chat, the incredibly cheap model\n",
    "\n",
    "response = deepseek_client.chat.completions.create(\n",
    "    model=\"deepseek-chat\",\n",
    "    messages=messages\n",
    ")\n",
    "\n",
    "question = response.choices[0].message.content\n",
    "\n",
    "print(question)"
   ]
  },
  {
   "cell_type": "code",
   "execution_count": 25,
   "metadata": {},
   "outputs": [],
   "source": [
    "# form a new messages list\n",
    "messages = [{\"role\": \"user\", \"content\": question}]"
   ]
  },
  {
   "cell_type": "code",
   "execution_count": 26,
   "metadata": {},
   "outputs": [
    {
     "name": "stdout",
     "output_type": "stream",
     "text": [
      "Alright, let's tackle this puzzle step by step. I'll start by summarizing the information given and then explore how to approach the problem.\n",
      "\n",
      "### Understanding the Problem\n",
      "\n",
      "We have three boxes, each mislabeled:\n",
      "\n",
      "1. **Box A**: Labeled \"Apples\" (but it's mislabeled)\n",
      "2. **Box B**: Labeled \"Oranges\" (but it's mislabeled)\n",
      "3. **Box C**: Labeled \"Apples and Oranges\" (but it's mislabeled)\n",
      "\n",
      "Our goal is to determine the minimum number of fruits we need to draw from which box(es) to correctly relabel all the boxes.\n",
      "\n",
      "### Initial Observations\n",
      "\n",
      "- All boxes are mislabeled. This is a crucial piece of information.\n",
      "  \n",
      "  - The box labeled \"Apples\" cannot contain only apples.\n",
      "  - The box labeled \"Oranges\" cannot contain only oranges.\n",
      "  - The box labeled \"Apples and Oranges\" cannot contain both; it must contain only apples or only oranges.\n",
      "\n",
      "### Determining Which Box to Sample\n",
      "\n",
      "Since all labels are incorrect, the box labeled \"Apples and Oranges\" must contain only one type of fruit (either all apples or all oranges). This is because it cannot have both, as per the mislabeling.\n",
      "\n",
      "Therefore, the most straightforward approach is to pick a fruit from the box labeled \"Apples and Oranges.\"\n",
      "\n",
      "Let's say we pick a fruit from Box C (labeled \"Apples and Oranges\").\n",
      "\n",
      "**Case 1**: The fruit drawn is an apple.\n",
      "  \n",
      "  - This means Box C contains only apples.\n",
      "  \n",
      "  Now, recall that:\n",
      "  \n",
      "  - Box A is labeled \"Apples\" but cannot contain only apples (since all labels are wrong). It also cannot contain both (because Box C is already only apples), so it must contain only oranges.\n",
      "  \n",
      "  - Box B is labeled \"Oranges\" but cannot contain only oranges. It cannot contain only apples (since Box C is only apples), so it must contain both apples and oranges.\n",
      "\n",
      "**Case 2**: The fruit drawn is an orange.\n",
      "  \n",
      "  - This means Box C contains only oranges.\n",
      "  \n",
      "  Now:\n",
      "  \n",
      "  - Box B is labeled \"Oranges\" but cannot contain only oranges. It also cannot contain both (since Box C is only oranges), so it must contain only apples.\n",
      "  \n",
      "  - Box A is labeled \"Apples\" but cannot contain only apples. It cannot contain only oranges (since Box C is only oranges), so it must contain both apples and oranges.\n",
      "\n",
      "### Verifying the Solution\n",
      "\n",
      "Let's verify both cases to ensure correctness.\n",
      "\n",
      "**Case 1**: Box C has only apples.\n",
      "  \n",
      "  - Box A (labeled \"Apples\"): Cannot be only apples or both (since both are incorrect and Box C is only apples), so it must be only oranges.\n",
      "  \n",
      "  - Box B (labeled \"Oranges\"): Cannot be only oranges. It can't be only apples (Box C is that), so it must be both.\n",
      "  \n",
      "  This correctly relabels:\n",
      "  \n",
      "  - Box A: Oranges\n",
      "  - Box B: Apples and Oranges\n",
      "  - Box C: Apples\n",
      "\n",
      "**Case 2**: Box C has only oranges.\n",
      "  \n",
      "  - Box B (labeled \"Oranges\"): Cannot be only oranges or both (since both are incorrect and Box C is only oranges), so it must be only apples.\n",
      "  \n",
      "  - Box A (labeled \"Apples\"): Cannot be only apples. It can't be only oranges (Box C is that), so it must be both.\n",
      "  \n",
      "  This correctly relabels:\n",
      "  \n",
      "  - Box A: Apples and Oranges\n",
      "  - Box B: Apples\n",
      "  - Box C: Oranges\n",
      "\n",
      "Both scenarios lead to correct relabeling after drawing just one fruit from the box labeled \"Apples and Oranges.\"\n",
      "\n",
      "### Why Not Other Boxes?\n",
      "\n",
      "If we were to pick from Box A (labeled \"Apples\") or Box B (labeled \"Oranges\"), we might not get definitive information as quickly because those boxes could contain either the other single fruit or both. For example:\n",
      "\n",
      "- Picking from Box A (labeled \"Apples\"):\n",
      "  \n",
      "  - If you get an apple, it could be the box with both (since it's not only apples), but then you don't know about the others.\n",
      "  \n",
      "  - If you get an orange, it's the only oranges box, but this contradicts the label being wrong (since the label is \"Apples,\" and if it's only oranges, that's acceptable as a mislabel, but then the others are ambiguous).\n",
      "\n",
      "This approach would likely require more than one sample to resolve the labels definitively.\n",
      "\n",
      "### Conclusion\n",
      "\n",
      "The most efficient strategy is to pick one fruit from the box labeled \"Apples and Oranges.\" Since we know this label is incorrect, the box must contain only apples or only oranges. Drawing one fruit tells us exactly what's in that box, and from there, we can deduce the contents of the other boxes based on the initial mislabeling.\n",
      "\n",
      "**Final Answer**: You need to draw **one fruit** from the box labeled **\"Apples and Oranges.\"** \n",
      "\n",
      "- If the fruit is an apple, the box is \"Apples,\" leading to:\n",
      "  - \"Apples and Oranges\" box: Apples\n",
      "  - \"Apples\" box: Oranges\n",
      "  - \"Oranges\" box: Apples and Oranges\n",
      "\n",
      "- If the fruit is an orange, the box is \"Oranges,\" leading to:\n",
      "  - \"Apples and Oranges\" box: Oranges\n",
      "  - \"Oranges\" box: Apples\n",
      "  - \"Apples\" box: Apples and Oranges\n",
      "\n",
      "This single draw provides enough information to correctly relabel all boxes.\n"
     ]
    }
   ],
   "source": [
    "# Ask it again\n",
    "response = deepseek_client.chat.completions.create(\n",
    "    model=\"deepseek-chat\",\n",
    "    messages=messages\n",
    ")\n",
    "\n",
    "answer = response.choices[0].message.content\n",
    "print(answer)"
   ]
  },
  {
   "cell_type": "code",
   "execution_count": 27,
   "metadata": {},
   "outputs": [
    {
     "data": {
      "text/markdown": [
       "Alright, let's tackle this puzzle step by step. I'll start by summarizing the information given and then explore how to approach the problem.\n",
       "\n",
       "### Understanding the Problem\n",
       "\n",
       "We have three boxes, each mislabeled:\n",
       "\n",
       "1. **Box A**: Labeled \"Apples\" (but it's mislabeled)\n",
       "2. **Box B**: Labeled \"Oranges\" (but it's mislabeled)\n",
       "3. **Box C**: Labeled \"Apples and Oranges\" (but it's mislabeled)\n",
       "\n",
       "Our goal is to determine the minimum number of fruits we need to draw from which box(es) to correctly relabel all the boxes.\n",
       "\n",
       "### Initial Observations\n",
       "\n",
       "- All boxes are mislabeled. This is a crucial piece of information.\n",
       "  \n",
       "  - The box labeled \"Apples\" cannot contain only apples.\n",
       "  - The box labeled \"Oranges\" cannot contain only oranges.\n",
       "  - The box labeled \"Apples and Oranges\" cannot contain both; it must contain only apples or only oranges.\n",
       "\n",
       "### Determining Which Box to Sample\n",
       "\n",
       "Since all labels are incorrect, the box labeled \"Apples and Oranges\" must contain only one type of fruit (either all apples or all oranges). This is because it cannot have both, as per the mislabeling.\n",
       "\n",
       "Therefore, the most straightforward approach is to pick a fruit from the box labeled \"Apples and Oranges.\"\n",
       "\n",
       "Let's say we pick a fruit from Box C (labeled \"Apples and Oranges\").\n",
       "\n",
       "**Case 1**: The fruit drawn is an apple.\n",
       "  \n",
       "  - This means Box C contains only apples.\n",
       "  \n",
       "  Now, recall that:\n",
       "  \n",
       "  - Box A is labeled \"Apples\" but cannot contain only apples (since all labels are wrong). It also cannot contain both (because Box C is already only apples), so it must contain only oranges.\n",
       "  \n",
       "  - Box B is labeled \"Oranges\" but cannot contain only oranges. It cannot contain only apples (since Box C is only apples), so it must contain both apples and oranges.\n",
       "\n",
       "**Case 2**: The fruit drawn is an orange.\n",
       "  \n",
       "  - This means Box C contains only oranges.\n",
       "  \n",
       "  Now:\n",
       "  \n",
       "  - Box B is labeled \"Oranges\" but cannot contain only oranges. It also cannot contain both (since Box C is only oranges), so it must contain only apples.\n",
       "  \n",
       "  - Box A is labeled \"Apples\" but cannot contain only apples. It cannot contain only oranges (since Box C is only oranges), so it must contain both apples and oranges.\n",
       "\n",
       "### Verifying the Solution\n",
       "\n",
       "Let's verify both cases to ensure correctness.\n",
       "\n",
       "**Case 1**: Box C has only apples.\n",
       "  \n",
       "  - Box A (labeled \"Apples\"): Cannot be only apples or both (since both are incorrect and Box C is only apples), so it must be only oranges.\n",
       "  \n",
       "  - Box B (labeled \"Oranges\"): Cannot be only oranges. It can't be only apples (Box C is that), so it must be both.\n",
       "  \n",
       "  This correctly relabels:\n",
       "  \n",
       "  - Box A: Oranges\n",
       "  - Box B: Apples and Oranges\n",
       "  - Box C: Apples\n",
       "\n",
       "**Case 2**: Box C has only oranges.\n",
       "  \n",
       "  - Box B (labeled \"Oranges\"): Cannot be only oranges or both (since both are incorrect and Box C is only oranges), so it must be only apples.\n",
       "  \n",
       "  - Box A (labeled \"Apples\"): Cannot be only apples. It can't be only oranges (Box C is that), so it must be both.\n",
       "  \n",
       "  This correctly relabels:\n",
       "  \n",
       "  - Box A: Apples and Oranges\n",
       "  - Box B: Apples\n",
       "  - Box C: Oranges\n",
       "\n",
       "Both scenarios lead to correct relabeling after drawing just one fruit from the box labeled \"Apples and Oranges.\"\n",
       "\n",
       "### Why Not Other Boxes?\n",
       "\n",
       "If we were to pick from Box A (labeled \"Apples\") or Box B (labeled \"Oranges\"), we might not get definitive information as quickly because those boxes could contain either the other single fruit or both. For example:\n",
       "\n",
       "- Picking from Box A (labeled \"Apples\"):\n",
       "  \n",
       "  - If you get an apple, it could be the box with both (since it's not only apples), but then you don't know about the others.\n",
       "  \n",
       "  - If you get an orange, it's the only oranges box, but this contradicts the label being wrong (since the label is \"Apples,\" and if it's only oranges, that's acceptable as a mislabel, but then the others are ambiguous).\n",
       "\n",
       "This approach would likely require more than one sample to resolve the labels definitively.\n",
       "\n",
       "### Conclusion\n",
       "\n",
       "The most efficient strategy is to pick one fruit from the box labeled \"Apples and Oranges.\" Since we know this label is incorrect, the box must contain only apples or only oranges. Drawing one fruit tells us exactly what's in that box, and from there, we can deduce the contents of the other boxes based on the initial mislabeling.\n",
       "\n",
       "**Final Answer**: You need to draw **one fruit** from the box labeled **\"Apples and Oranges.\"** \n",
       "\n",
       "- If the fruit is an apple, the box is \"Apples,\" leading to:\n",
       "  - \"Apples and Oranges\" box: Apples\n",
       "  - \"Apples\" box: Oranges\n",
       "  - \"Oranges\" box: Apples and Oranges\n",
       "\n",
       "- If the fruit is an orange, the box is \"Oranges,\" leading to:\n",
       "  - \"Apples and Oranges\" box: Oranges\n",
       "  - \"Oranges\" box: Apples\n",
       "  - \"Apples\" box: Apples and Oranges\n",
       "\n",
       "This single draw provides enough information to correctly relabel all boxes."
      ],
      "text/plain": [
       "<IPython.core.display.Markdown object>"
      ]
     },
     "metadata": {},
     "output_type": "display_data"
    }
   ],
   "source": [
    "from IPython.display import Markdown, display\n",
    "\n",
    "display(Markdown(answer))"
   ]
  },
  {
   "cell_type": "markdown",
   "metadata": {},
   "source": [
    "## Task 1 Business Idea Submission\n",
    "\n",
    "That was a small, simple step in the direction of Agentic AI, with your new environment!\n",
    "\n",
    "Next time things get more interesting..."
   ]
  },
  {
   "cell_type": "markdown",
   "metadata": {},
   "source": [
    "<table style=\"margin: 0; text-align: left; width:100%\">\n",
    "    <tr>\n",
    "        <td style=\"width: 150px; height: 150px; vertical-align: middle;\">\n",
    "            <img src=\"../../../assets/exercise.png\" width=\"150\" height=\"150\" style=\"display: block;\" />\n",
    "        </td>\n",
    "        <td>\n",
    "            <h2 style=\"color:#ff7800;\">Exercise</h2>\n",
    "            <span style=\"color:#ff7800;\">Now try this commercial application:<br/>\n",
    "            First ask the LLM to pick a business area that might be worth exploring for an Agentic AI opportunity.<br/>\n",
    "            Then ask the LLM to present a pain-point in that industry - something challenging that might be ripe for an Agentic solution.<br/>\n",
    "            Finally have 3 third LLM call propose the Agentic AI solution. <br/>\n",
    "            We will cover this at up-coming labs, so don't worry if you're unsure.. just give it a try!\n",
    "            </span>\n",
    "        </td>\n",
    "    </tr>\n",
    "</table>"
   ]
  },
  {
   "cell_type": "code",
   "execution_count": 28,
   "metadata": {},
   "outputs": [],
   "source": [
    "# First create the messages and first call for picking business ideas:\n",
    "question = \"Pick a business idea that might be ripe for an Agentic AI solution. The idea should be challenging and interesting and focusing on DevOps or SRE.\"\n",
    "messages = [{\"role\": \"user\", \"content\": question}]\n",
    "\n",
    "response = deepseek_client.chat.completions.create(\n",
    "    model=\"deepseek-chat\",\n",
    "    messages=messages\n",
    ")\n",
    "business_ideas = response.choices[0].message.content"
   ]
  },
  {
   "cell_type": "code",
   "execution_count": 29,
   "metadata": {},
   "outputs": [],
   "source": [
    "# LLM call 2 to get the pain point in the business idea that might be ripe for an Agentic solution\n",
    "pain_point_question = f\"Present a pain-point in the {business_ideas} - something challenging that might be ripe for an Agentic solution.\"\n",
    "messages = [{\"role\": \"user\", \"content\": pain_point_question}]\n",
    "\n",
    "response = deepseek_client.chat.completions.create(\n",
    "    model=\"deepseek-chat\",\n",
    "    messages=messages\n",
    ")\n",
    "pain_point = response.choices[0].message.content"
   ]
  },
  {
   "cell_type": "code",
   "execution_count": 30,
   "metadata": {},
   "outputs": [],
   "source": [
    "# LLM Call 3 to propose the exact Agentic AI Solution\n",
    "business_idea = f\"The business idea is {business_ideas} and the pain point is {pain_point}. Please propose an Agentic AI solution to the pain point. Respond only with the solution.\"\n",
    "messages = [{\"role\": \"user\", \"content\": business_idea}]\n",
    "\n",
    "response = deepseek_client.chat.completions.create(\n",
    "    model=\"deepseek-chat\",\n",
    "    messages=messages\n",
    ")\n",
    "\n",
    "agentic_ai_solution = response.choices[0].message.content"
   ]
  },
  {
   "cell_type": "code",
   "execution_count": 31,
   "metadata": {},
   "outputs": [
    {
     "name": "stdout",
     "output_type": "stream",
     "text": [
      "### **Agentic AI Solution: \"Dependency Guardian\"**  \n",
      "\n",
      "#### **Core Components:**  \n",
      "1. **Dynamic Dependency Graph Engine**  \n",
      "   - **Real-Time Ingestion**: Integrates with OpenTelemetry, service meshes (Istio/Linkerd), and cloud APIs to build a **live, weighted dependency graph** (nodes = services/resources, edges = interactions with latency/error rates).  \n",
      "   - **Risk Scoring**: Uses **graph neural networks (GNNs)** to assign \"blast radius\" scores (e.g., \"This gRPC edge has no circuit breaker—risk score 8/10\"). Continuously updates scores based on system state (e.g., \"Cloud provider region degraded → auto-increase risk for dependencies there\").  \n",
      "\n",
      "2. **Autonomous Mitigation Agent**  \n",
      "   - **Causal Inference for Remediation**: When a failure occurs, the AI traces the dependency chain using **counterfactual reasoning** (e.g., \"Would the failure persist if we bypassed Service X?\") and executes context-aware fixes:  \n",
      "     - **Circuit Breaker Injection**: Dynamically deploys resilience patterns (e.g., \"Third-party API timeout → auto-add retry budget + fallback\").  \n",
      "     - **Traffic Rerouting**: Identifies critical-path bottlenecks and reroutes (e.g., \"Kafka partition overload → shift 30% traffic to alternate topic\").  \n",
      "   - **Sandboxed Simulations**: Tests mitigation actions in a parallel environment (e.g., \"Simulate load shedding before applying to prod\").  \n",
      "\n",
      "3. **Post-Incident Architect**  \n",
      "   - **Causal Chain Analysis**: Generates postmortems with **probabilistic causal graphs** (e.g., \"95% confidence the retry storm in Fraud Detection caused Payment Service failures\").  \n",
      "   - **Architectural Recommendations**: Proposes long-term fixes (e.g., \"Break this monolith → microservices with bulkheads\") and **auto-creates tech debt tickets** in Jira.  \n",
      "   - **Dependency Hotspot Alerts**: Flags systemic risks (e.g., \"5 services share a single Redis instance—recommend sharding\").  \n",
      "\n",
      "#### **Agentic Workflow:**  \n",
      "1. **Monitor**: Continuously update dependency graph with real-time metrics/traces.  \n",
      "2. **Predict**: Use GNNs to forecast cascading failures (e.g., \"Service A’s latency spike will impact B and C in 2 minutes\").  \n",
      "3. **Act**: Execute mitigations (with human override options) or escalate.  \n",
      "4. **Learn**: Reinforce decision-making via RL from incident outcomes (e.g., \"Circuit breaker worked → increase confidence score for similar cases\").  \n",
      "\n",
      "#### **Key Innovations:**  \n",
      "- **Explainable Autonomy**: AI provides **natural language logs** for every action (e.g., \"Rerouted traffic due to high error rate (85%) on Dependency X\").  \n",
      "- **Implicit Dependency Discovery**: Detects hidden relationships (e.g., shared DB connection pools) via **anomaly correlation** (e.g., \"Simultaneous latency spikes in unrelated services → trace to common S3 bucket\").  \n",
      "- **Compliance Safeguards**: Enterprise mode enforces **4-eyes approval** for high-risk actions (e.g., database schema changes).  \n",
      "\n",
      "#### **Integration:**  \n",
      "- **Plugins for Observability Tools**: Pre-built connectors for Datadog, Prometheus, PagerDuty.  \n",
      "- **API for Custom Policies**: Let teams define rules (e.g., \"Never auto-remediate payments without human review\").  \n",
      "\n",
      "**Outcome**: DevOps/SRE teams shift from **firefighting dependency chaos** to **proactive system hardening**, with AI as a co-pilot for reliability.**\n"
     ]
    }
   ],
   "source": [
    "print(agentic_ai_solution)"
   ]
  },
  {
   "cell_type": "code",
   "execution_count": null,
   "metadata": {},
   "outputs": [
    {
     "data": {
      "text/markdown": [
       "### **Agentic AI Solution: \"Dependency Guardian\"**  \n",
       "\n",
       "#### **Core Components:**  \n",
       "1. **Dynamic Dependency Graph Engine**  \n",
       "   - **Real-Time Ingestion**: Integrates with OpenTelemetry, service meshes (Istio/Linkerd), and cloud APIs to build a **live, weighted dependency graph** (nodes = services/resources, edges = interactions with latency/error rates).  \n",
       "   - **Risk Scoring**: Uses **graph neural networks (GNNs)** to assign \"blast radius\" scores (e.g., \"This gRPC edge has no circuit breaker—risk score 8/10\"). Continuously updates scores based on system state (e.g., \"Cloud provider region degraded → auto-increase risk for dependencies there\").  \n",
       "\n",
       "2. **Autonomous Mitigation Agent**  \n",
       "   - **Causal Inference for Remediation**: When a failure occurs, the AI traces the dependency chain using **counterfactual reasoning** (e.g., \"Would the failure persist if we bypassed Service X?\") and executes context-aware fixes:  \n",
       "     - **Circuit Breaker Injection**: Dynamically deploys resilience patterns (e.g., \"Third-party API timeout → auto-add retry budget + fallback\").  \n",
       "     - **Traffic Rerouting**: Identifies critical-path bottlenecks and reroutes (e.g., \"Kafka partition overload → shift 30% traffic to alternate topic\").  \n",
       "   - **Sandboxed Simulations**: Tests mitigation actions in a parallel environment (e.g., \"Simulate load shedding before applying to prod\").  \n",
       "\n",
       "3. **Post-Incident Architect**  \n",
       "   - **Causal Chain Analysis**: Generates postmortems with **probabilistic causal graphs** (e.g., \"95% confidence the retry storm in Fraud Detection caused Payment Service failures\").  \n",
       "   - **Architectural Recommendations**: Proposes long-term fixes (e.g., \"Break this monolith → microservices with bulkheads\") and **auto-creates tech debt tickets** in Jira.  \n",
       "   - **Dependency Hotspot Alerts**: Flags systemic risks (e.g., \"5 services share a single Redis instance—recommend sharding\").  \n",
       "\n",
       "#### **Agentic Workflow:**  \n",
       "1. **Monitor**: Continuously update dependency graph with real-time metrics/traces.  \n",
       "2. **Predict**: Use GNNs to forecast cascading failures (e.g., \"Service A’s latency spike will impact B and C in 2 minutes\").  \n",
       "3. **Act**: Execute mitigations (with human override options) or escalate.  \n",
       "4. **Learn**: Reinforce decision-making via RL from incident outcomes (e.g., \"Circuit breaker worked → increase confidence score for similar cases\").  \n",
       "\n",
       "#### **Key Innovations:**  \n",
       "- **Explainable Autonomy**: AI provides **natural language logs** for every action (e.g., \"Rerouted traffic due to high error rate (85%) on Dependency X\").  \n",
       "- **Implicit Dependency Discovery**: Detects hidden relationships (e.g., shared DB connection pools) via **anomaly correlation** (e.g., \"Simultaneous latency spikes in unrelated services → trace to common S3 bucket\").  \n",
       "- **Compliance Safeguards**: Enterprise mode enforces **4-eyes approval** for high-risk actions (e.g., database schema changes).  \n",
       "\n",
       "#### **Integration:**  \n",
       "- **Plugins for Observability Tools**: Pre-built connectors for Datadog, Prometheus, PagerDuty.  \n",
       "- **API for Custom Policies**: Let teams define rules (e.g., \"Never auto-remediate payments without human review\").  \n",
       "\n",
       "**Outcome**: DevOps/SRE teams shift from **firefighting dependency chaos** to **proactive system hardening**, with AI as a co-pilot for reliability.**"
      ],
      "text/plain": [
       "<IPython.core.display.Markdown object>"
      ]
     },
     "metadata": {},
     "output_type": "display_data"
    }
   ],
   "source": [
    "display(Markdown(agentic_ai_solution))"
   ]
  },
  {
   "cell_type": "markdown",
   "metadata": {},
   "source": []
  }
 ],
 "metadata": {
  "kernelspec": {
   "display_name": ".venv",
   "language": "python",
   "name": "python3"
  },
  "language_info": {
   "codemirror_mode": {
    "name": "ipython",
    "version": 3
   },
   "file_extension": ".py",
   "mimetype": "text/x-python",
   "name": "python",
   "nbconvert_exporter": "python",
   "pygments_lexer": "ipython3",
   "version": "3.12.1"
  }
 },
 "nbformat": 4,
 "nbformat_minor": 2
}
