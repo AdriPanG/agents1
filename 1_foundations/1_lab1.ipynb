{
 "cells": [
  {
   "cell_type": "markdown",
   "metadata": {},
   "source": [
    "# Welcome to the start of your adventure in Agentic AI"
   ]
  },
  {
   "cell_type": "markdown",
   "metadata": {},
   "source": [
    "<table style=\"margin: 0; text-align: left; width:100%\">\n",
    "    <tr>\n",
    "        <td style=\"width: 150px; height: 150px; vertical-align: middle;\">\n",
    "            <img src=\"../assets/stop.png\" width=\"150\" height=\"150\" style=\"display: block;\" />\n",
    "        </td>\n",
    "        <td>\n",
    "            <h2 style=\"color:#ff7800;\">Are you ready for action??</h2>\n",
    "            <span style=\"color:#ff7800;\">Have you completed all the setup steps in the <a href=\"../setup/\">setup</a> folder?<br/>\n",
    "            Have you read the <a href=\"../README.md\">README</a>? Many common questions are answered here!<br/>\n",
    "            Have you checked out the guides in the <a href=\"../guides/01_intro.ipynb\">guides</a> folder?<br/>\n",
    "            Well in that case, you're ready!!\n",
    "            </span>\n",
    "        </td>\n",
    "    </tr>\n",
    "</table>"
   ]
  },
  {
   "cell_type": "markdown",
   "metadata": {},
   "source": [
    "<table style=\"margin: 0; text-align: left; width:100%\">\n",
    "    <tr>\n",
    "        <td style=\"width: 150px; height: 150px; vertical-align: middle;\">\n",
    "            <img src=\"../assets/tools.png\" width=\"150\" height=\"150\" style=\"display: block;\" />\n",
    "        </td>\n",
    "        <td>\n",
    "            <h2 style=\"color:#00bfff;\">This code is a live resource - keep an eye out for my updates</h2>\n",
    "            <span style=\"color:#00bfff;\">I push updates regularly. As people ask questions or have problems, I add more examples and improve explanations. As a result, the code below might not be identical to the videos, as I've added more steps and better comments. Consider this like an interactive book that accompanies the lectures.<br/><br/>\n",
    "            I try to send emails regularly with important updates related to the course. You can find this in the 'Announcements' section of Udemy in the left sidebar. You can also choose to receive my emails via your Notification Settings in Udemy. I'm respectful of your inbox and always try to add value with my emails!\n",
    "            </span>\n",
    "        </td>\n",
    "    </tr>\n",
    "</table>"
   ]
  },
  {
   "cell_type": "markdown",
   "metadata": {},
   "source": [
    "### And please do remember to contact me if I can help\n",
    "\n",
    "And I love to connect: https://www.linkedin.com/in/eddonner/\n",
    "\n",
    "\n",
    "### New to Notebooks like this one? Head over to the guides folder!\n",
    "\n",
    "Just to check you've already added the Python and Jupyter extensions to Cursor, if not already installed:\n",
    "- Open extensions (View >> extensions)\n",
    "- Search for python, and when the results show, click on the ms-python one, and Install it if not already installed\n",
    "- Search for jupyter, and when the results show, click on the Microsoft one, and Install it if not already installed  \n",
    "Then View >> Explorer to bring back the File Explorer.\n",
    "\n",
    "And then:\n",
    "1. Click where it says \"Select Kernel\" near the top right, and select the option called `.venv (Python 3.12.9)` or similar, which should be the first choice or the most prominent choice. You may need to choose \"Python Environments\" first.\n",
    "2. Click in each \"cell\" below, starting with the cell immediately below this text, and press Shift+Enter to run\n",
    "3. Enjoy!\n",
    "\n",
    "After you click \"Select Kernel\", if there is no option like `.venv (Python 3.12.9)` then please do the following:  \n",
    "1. On Mac: From the Cursor menu, choose Settings >> VS Code Settings (NOTE: be sure to select `VSCode Settings` not `Cursor Settings`);  \n",
    "On Windows PC: From the File menu, choose Preferences >> VS Code Settings(NOTE: be sure to select `VSCode Settings` not `Cursor Settings`)  \n",
    "2. In the Settings search bar, type \"venv\"  \n",
    "3. In the field \"Path to folder with a list of Virtual Environments\" put the path to the project root, like C:\\Users\\username\\projects\\agents (on a Windows PC) or /Users/username/projects/agents (on Mac or Linux).  \n",
    "And then try again.\n",
    "\n",
    "Having problems with missing Python versions in that list? Have you ever used Anaconda before? It might be interferring. Quit Cursor, bring up a new command line, and make sure that your Anaconda environment is deactivated:    \n",
    "`conda deactivate`  \n",
    "And if you still have any problems with conda and python versions, it's possible that you will need to run this too:  \n",
    "`conda config --set auto_activate_base false`  \n",
    "and then from within the Agents directory, you should be able to run `uv python list` and see the Python 3.12 version."
   ]
  },
  {
   "cell_type": "code",
   "execution_count": 1,
   "metadata": {},
   "outputs": [],
   "source": [
    "# First let's do an import. If you get an Import Error, double check that your Kernel is correct..\n",
    "\n",
    "from dotenv import load_dotenv\n"
   ]
  },
  {
   "cell_type": "code",
   "execution_count": 2,
   "metadata": {},
   "outputs": [
    {
     "data": {
      "text/plain": [
       "True"
      ]
     },
     "execution_count": 2,
     "metadata": {},
     "output_type": "execute_result"
    }
   ],
   "source": [
    "# Next it's time to load the API keys into environment variables\n",
    "# If this returns false, see the next cell!\n",
    "\n",
    "load_dotenv(override=True)"
   ]
  },
  {
   "cell_type": "markdown",
   "metadata": {},
   "source": [
    "### Wait, did that just output `False`??\n",
    "\n",
    "If so, the most common reason is that you didn't save your `.env` file after adding the key! Be sure to have saved.\n",
    "\n",
    "Also, make sure the `.env` file is named precisely `.env` and is in the project root directory (`agents`)\n",
    "\n",
    "By the way, your `.env` file should have a stop symbol next to it in Cursor on the left, and that's actually a good thing: that's Cursor saying to you, \"hey, I realize this is a file filled with secret information, and I'm not going to send it to an external AI to suggest changes, because your keys should not be shown to anyone else.\""
   ]
  },
  {
   "cell_type": "markdown",
   "metadata": {},
   "source": [
    "<table style=\"margin: 0; text-align: left; width:100%\">\n",
    "    <tr>\n",
    "        <td style=\"width: 150px; height: 150px; vertical-align: middle;\">\n",
    "            <img src=\"../assets/stop.png\" width=\"150\" height=\"150\" style=\"display: block;\" />\n",
    "        </td>\n",
    "        <td>\n",
    "            <h2 style=\"color:#ff7800;\">Final reminders</h2>\n",
    "            <span style=\"color:#ff7800;\">1. If you're not confident about Environment Variables or Web Endpoints / APIs, please read Topics 3 and 5 in this <a href=\"../guides/04_technical_foundations.ipynb\">technical foundations guide</a>.<br/>\n",
    "            2. If you want to use AIs other than OpenAI, like Gemini, DeepSeek or Ollama (free), please see the first section in this <a href=\"../guides/09_ai_apis_and_ollama.ipynb\">AI APIs guide</a>.<br/>\n",
    "            3. If you ever get a Name Error in Python, you can always fix it immediately; see the last section of this <a href=\"../guides/06_python_foundations.ipynb\">Python Foundations guide</a> and follow both tutorials and exercises.<br/>\n",
    "            </span>\n",
    "        </td>\n",
    "    </tr>\n",
    "</table>"
   ]
  },
  {
   "cell_type": "code",
   "execution_count": 3,
   "metadata": {},
   "outputs": [
    {
     "name": "stdout",
     "output_type": "stream",
     "text": [
      "Gemini API Key exists and begins AIzaSyBr\n"
     ]
    }
   ],
   "source": [
    "# Check the key - if you're not using OpenAI, check whichever key you're using! Ollama doesn't need a key.\n",
    "\n",
    "import os\n",
    "gemini_api_key = os.getenv('GEMINI_API_KEY')\n",
    "\n",
    "if gemini_api_key:\n",
    "    print(f\"Gemini API Key exists and begins {gemini_api_key[:8]}\")\n",
    "else:\n",
    "    print(\"Gemini API Key not set - please head to the troubleshooting guide in the setup folder\")\n",
    "    \n"
   ]
  },
  {
   "cell_type": "code",
   "execution_count": 4,
   "metadata": {},
   "outputs": [],
   "source": [
    "# And now - the all important import statement\n",
    "# If you get an import error - head over to troubleshooting in the Setup folder\n",
    "# Even for other LLM providers like Gemini, you still use this OpenAI import - see Guide 9 for why\n",
    "\n",
    "from openai import OpenAI"
   ]
  },
  {
   "cell_type": "code",
   "execution_count": null,
   "metadata": {},
   "outputs": [],
   "source": [
    "# And now we'll create an instance of the OpenAI class\n",
    "# If you're not sure what it means to create an instance of a class - head over to the guides folder (guide 6)!\n",
    "# If you get a NameError - head over to the guides folder (guide 6)to learn about NameErrors - always instantly fixable\n",
    "# If you're not using OpenAI, you just need to slightly modify this - precise instructions are in the AI APIs guide (guide 9)\n",
    "\n",
    "GEMINI_BASE_URL = \"https://generativelanguage.googleapis.com/v1beta/openai/\"\n",
    "google_api_key = os.getenv(\"GOOGLE_API_KEY\")\n",
    "openai = OpenAI(base_url=GEMINI_BASE_URL, api_key=google_api_key)"
   ]
  },
  {
   "cell_type": "code",
   "execution_count": 6,
   "metadata": {},
   "outputs": [],
   "source": [
    "# Create a list of messages in the familiar OpenAI format\n",
    "\n",
    "messages = [{\"role\": \"user\", \"content\": \"What is 2+2?\"}]"
   ]
  },
  {
   "cell_type": "code",
   "execution_count": 7,
   "metadata": {},
   "outputs": [
    {
     "name": "stdout",
     "output_type": "stream",
     "text": [
      "2+2 is 4.\n"
     ]
    }
   ],
   "source": [
    "# And now call it! Any problems, head to the troubleshooting guide\n",
    "# This uses GPT 4.1 nano, the incredibly cheap model\n",
    "# The APIs guide (guide 9) has exact instructions for using even cheaper or free alternatives to OpenAI\n",
    "# If you get a NameError, head to the guides folder (guide 6) to learn about NameErrors - always instantly fixable\n",
    "\n",
    "response = openai.chat.completions.create(model=\"gemini-2.5-flash-preview-05-20\", messages=messages)\n",
    "print(response.choices[0].message.content)\n"
   ]
  },
  {
   "cell_type": "code",
   "execution_count": 8,
   "metadata": {},
   "outputs": [],
   "source": [
    "# And now - let's ask for a question:\n",
    "\n",
    "question = \"Please propose a hard, challenging question to assess someone's IQ. Respond only with the question.\"\n",
    "messages = [{\"role\": \"user\", \"content\": question}]\n"
   ]
  },
  {
   "cell_type": "code",
   "execution_count": 9,
   "metadata": {},
   "outputs": [
    {
     "name": "stdout",
     "output_type": "stream",
     "text": [
      "If 'Globan' is to 'Frumpt' as 'Blippo' is to 'Klatch', and 'Klatch' is to 'Zizzle' as 'Frumpt' is to 'Wobble', then 'Zizzle' is to 'Wobble' as 'Blippo' is to ______?\n"
     ]
    }
   ],
   "source": [
    "# ask it - this uses GPT 4.1 mini, still cheap but more powerful than nano\n",
    "\n",
    "response = openai.chat.completions.create(\n",
    "    model=\"gemini-2.5-flash-preview-05-20\",\n",
    "    messages=messages\n",
    ")\n",
    "\n",
    "question = response.choices[0].message.content\n",
    "\n",
    "print(question)\n"
   ]
  },
  {
   "cell_type": "code",
   "execution_count": 10,
   "metadata": {},
   "outputs": [],
   "source": [
    "# form a new messages list\n",
    "messages = [{\"role\": \"user\", \"content\": question}]\n"
   ]
  },
  {
   "cell_type": "code",
   "execution_count": 12,
   "metadata": {},
   "outputs": [
    {
     "name": "stdout",
     "output_type": "stream",
     "text": [
      "Let's break down the relationships:\n",
      "\n",
      "1.  **\"Globan is to Frumpt as Blippo is to Klatch\"**\n",
      "    This can be written as: Globan / Frumpt = Blippo / Klatch\n",
      "    Let's rearrange this: Globan * Klatch = Frumpt * Blippo  (Equation 1)\n",
      "\n",
      "2.  **\"Klatch is to Zizzle as Frumpt is to Wobble\"**\n",
      "    This can be written as: Klatch / Zizzle = Frumpt / Wobble\n",
      "    Let's rearrange this: Klatch * Wobble = Zizzle * Frumpt (Equation 2)\n",
      "\n",
      "3.  **\"Zizzle is to Wobble as Blippo is to ______?\"**\n",
      "    This can be written as: Zizzle / Wobble = Blippo / X (where X is the word we're looking for)\n",
      "    Let's rearrange this: Zizzle * X = Wobble * Blippo (Equation 3)\n",
      "\n",
      "Now, let's manipulate these equations to find X:\n",
      "\n",
      "From Equation 2 (Klatch * Wobble = Zizzle * Frumpt), we can isolate the ratio Zizzle / Wobble:\n",
      "Zizzle / Wobble = Klatch / Frumpt\n",
      "\n",
      "Now substitute this into Equation 3 (Zizzle / Wobble = Blippo / X):\n",
      "Klatch / Frumpt = Blippo / X\n",
      "\n",
      "Rearrange this to solve for X:\n",
      "X = (Frumpt * Blippo) / Klatch\n",
      "\n",
      "Now, let's look back at Equation 1 (Globan * Klatch = Frumpt * Blippo).\n",
      "From Equation 1, we can see that (Frumpt * Blippo) is equal to (Globan * Klatch).\n",
      "\n",
      "Substitute (Globan * Klatch) for (Frumpt * Blippo) in our expression for X:\n",
      "X = (Globan * Klatch) / Klatch\n",
      "\n",
      "The 'Klatch' terms cancel out:\n",
      "X = Globan\n",
      "\n",
      "Therefore, 'Zizzle' is to 'Wobble' as 'Blippo' is to **Globan**.\n"
     ]
    }
   ],
   "source": [
    "# Ask it again\n",
    "\n",
    "response = openai.chat.completions.create(\n",
    "    model=\"gemini-2.5-flash\",\n",
    "    messages=messages\n",
    ")\n",
    "\n",
    "answer = response.choices[0].message.content\n",
    "print(answer)\n"
   ]
  },
  {
   "cell_type": "code",
   "execution_count": 13,
   "metadata": {},
   "outputs": [
    {
     "data": {
      "text/markdown": [
       "Let's break down the relationships:\n",
       "\n",
       "1.  **\"Globan is to Frumpt as Blippo is to Klatch\"**\n",
       "    This can be written as: Globan / Frumpt = Blippo / Klatch\n",
       "    Let's rearrange this: Globan * Klatch = Frumpt * Blippo  (Equation 1)\n",
       "\n",
       "2.  **\"Klatch is to Zizzle as Frumpt is to Wobble\"**\n",
       "    This can be written as: Klatch / Zizzle = Frumpt / Wobble\n",
       "    Let's rearrange this: Klatch * Wobble = Zizzle * Frumpt (Equation 2)\n",
       "\n",
       "3.  **\"Zizzle is to Wobble as Blippo is to ______?\"**\n",
       "    This can be written as: Zizzle / Wobble = Blippo / X (where X is the word we're looking for)\n",
       "    Let's rearrange this: Zizzle * X = Wobble * Blippo (Equation 3)\n",
       "\n",
       "Now, let's manipulate these equations to find X:\n",
       "\n",
       "From Equation 2 (Klatch * Wobble = Zizzle * Frumpt), we can isolate the ratio Zizzle / Wobble:\n",
       "Zizzle / Wobble = Klatch / Frumpt\n",
       "\n",
       "Now substitute this into Equation 3 (Zizzle / Wobble = Blippo / X):\n",
       "Klatch / Frumpt = Blippo / X\n",
       "\n",
       "Rearrange this to solve for X:\n",
       "X = (Frumpt * Blippo) / Klatch\n",
       "\n",
       "Now, let's look back at Equation 1 (Globan * Klatch = Frumpt * Blippo).\n",
       "From Equation 1, we can see that (Frumpt * Blippo) is equal to (Globan * Klatch).\n",
       "\n",
       "Substitute (Globan * Klatch) for (Frumpt * Blippo) in our expression for X:\n",
       "X = (Globan * Klatch) / Klatch\n",
       "\n",
       "The 'Klatch' terms cancel out:\n",
       "X = Globan\n",
       "\n",
       "Therefore, 'Zizzle' is to 'Wobble' as 'Blippo' is to **Globan**."
      ],
      "text/plain": [
       "<IPython.core.display.Markdown object>"
      ]
     },
     "metadata": {},
     "output_type": "display_data"
    }
   ],
   "source": [
    "from IPython.display import Markdown, display\n",
    "\n",
    "display(Markdown(answer))\n",
    "\n"
   ]
  },
  {
   "cell_type": "markdown",
   "metadata": {},
   "source": [
    "# Congratulations!\n",
    "\n",
    "That was a small, simple step in the direction of Agentic AI, with your new environment!\n",
    "\n",
    "Next time things get more interesting..."
   ]
  },
  {
   "cell_type": "markdown",
   "metadata": {},
   "source": [
    "<table style=\"margin: 0; text-align: left; width:100%\">\n",
    "    <tr>\n",
    "        <td style=\"width: 150px; height: 150px; vertical-align: middle;\">\n",
    "            <img src=\"../assets/exercise.png\" width=\"150\" height=\"150\" style=\"display: block;\" />\n",
    "        </td>\n",
    "        <td>\n",
    "            <h2 style=\"color:#ff7800;\">Exercise</h2>\n",
    "            <span style=\"color:#ff7800;\">Now try this commercial application:<br/>\n",
    "            First ask the LLM to pick a business area that might be worth exploring for an Agentic AI opportunity.<br/>\n",
    "            Then ask the LLM to present a pain-point in that industry - something challenging that might be ripe for an Agentic solution.<br/>\n",
    "            Finally have 3 third LLM call propose the Agentic AI solution. <br/>\n",
    "            We will cover this at up-coming labs, so don't worry if you're unsure.. just give it a try!\n",
    "            </span>\n",
    "        </td>\n",
    "    </tr>\n",
    "</table>"
   ]
  },
  {
   "cell_type": "code",
   "execution_count": null,
   "metadata": {},
   "outputs": [
    {
     "name": "stdout",
     "output_type": "stream",
     "text": [
      "¡Excelente pregunta! La IA de agentes es fascinante porque va más allá de la mera automatización y busca sistemas capaces de percibir, razonar, actuar y aprender de forma autónoma.\n",
      "\n",
      "Aquí te presento un área de negocio muy prometedora para aplicar IA de agentes, junto con algunas otras ideas:\n",
      "\n",
      "---\n",
      "\n",
      "### **Área de Negocio Destacada: Gestión Autónoma y Proactiva de la Experiencia del Cliente (CX)**\n",
      "\n",
      "**¿Por qué es interesante para IA de Agentes?**\n",
      "Actualmente, el servicio al cliente y la gestión de la experiencia suelen ser reactivos (respondiendo a problemas) y, aunque hay chatbots, a menudo carecen de la capacidad de orquestar interacciones complejas, anticipar necesidades o resolver problemas de forma proactiva a través de múltiples canales. Los agentes de IA pueden transformar esto.\n",
      "\n",
      "**Aplicación de IA de Agentes:**\n",
      "\n",
      "1.  **Agentes de Soporte Proactivo:**\n",
      "    *   **Descripción:** En lugar de esperar a que un cliente contacte con un problema, un agente de IA monitorea activamente el comportamiento del cliente, el historial de compras, el uso del producto/servicio y las métricas de rendimiento (ej., ancho de banda de internet, estado de un dispositivo IOT).\n",
      "    *   **Acción del Agente:** Si detecta una anomalía o una tendencia que podría llevar a un problema futuro (ej., baja velocidad de internet, uso ineficiente de un software, un patrón de abandono incipiente), el agente inicia una comunicación proactiva. Esto podría ser un mensaje personalizado con una solución sugerida, un tutorial, la oferta de una actualización, o incluso la programación automática de una cita con un técnico (con el permiso del cliente).\n",
      "    *   **Ejemplo:** Un agente detecta que un cliente usa una función poco conocida de un software, pero con errores repetidos. El agente envía un mini-tutorial personalizado o sugiere un flujo de trabajo alternativo.\n",
      "\n",
      "2.  **Agentes de Orquestación de Canales (Omnicanalidad Inteligente):**\n",
      "    *   **Descripción:** Hoy en día, un cliente puede empezar una consulta por chat, pasar a teléfono, luego a email. La información se pierde, y cada interacción es un inicio. Un agente de IA podría ser el \"director de orquesta\" de la experiencia del cliente.\n",
      "    *   **Acción del Agente:** El agente no solo recuerda el contexto de la interacción anterior en cualquier canal, sino que también decide el canal más óptimo para la siguiente comunicación basándose en la preferencia del cliente, la urgencia del problema, la disponibilidad de recursos humanos y la complejidad del tema. Si una consulta de chat se vuelve demasiado compleja, el agente puede sugerir automáticamente una videollamada con un experto específico, ya con todo el contexto cargado.\n",
      "\n",
      "3.  **Agentes de Personalización Dinámica de la Oferta:**\n",
      "    *   **Descripción:** Más allá de las recomendaciones estáticas, estos agentes aprenden continuamente sobre las preferencias cambiantes del cliente, su estilo de vida, eventos vitales y comportamiento de compra.\n",
      "    *   **Acción del Agente:** No solo sugieren productos, sino que pueden \"diseñar\" ofertas personalizadas en tiempo real, negociar ligeramente precios o condiciones (dentro de parámetros predefinidos), o incluso ensamblar paquetes de servicios basados en el uso real y proyectado. Podrían predecir cuándo un cliente podría necesitar una renovación o un servicio complementario y presentarlo de forma oportuna.\n",
      "\n",
      "**Valor y Oportunidad de Negocio:**\n",
      "\n",
      "*   **Reducción de Costos:** Disminuye la carga de trabajo en los centros de llamadas al prevenir problemas y automatizar resoluciones.\n",
      "*   **Mejora de la Satisfacción del Cliente (CSAT) y Lealtad:** Experiencias más fluidas, proactivas y personalizadas generan clientes más felices y leales.\n",
      "*   **Aumento de Ingresos:** Al predecir necesidades y ofrecer soluciones relevantes de forma oportuna, se pueden generar nuevas ventas y retener a los clientes existentes.\n",
      "*   **Diferenciación Competitiva:** Ofrecer un nivel de servicio y personalización que la mayoría de las empresas no pueden igualar.\n",
      "\n",
      "**Desafíos:**\n",
      "\n",
      "*   **Integración de Datos:** Necesidad de acceder a silos de datos (CRM, ERP, datos de uso de productos, redes sociales).\n",
      "*   **Confianza del Cliente:** Balancear la proactividad con la percepción de \"vigilancia\" o invasión de la privacidad.\n",
      "*   **Manejo de Excepciones:** Los agentes deben saber cuándo escalar a un humano y proporcionar todo el contexto necesario.\n",
      "*   **Desarrollo de Agentes Robusto:** Crear agentes que puedan razonar, planificar y aprender en entornos complejos y dinámicos.\n",
      "\n",
      "---\n",
      "\n",
      "### **Otras Áreas de Negocio Interesantes para IA de Agentes:**\n",
      "\n",
      "1.  **Gestión de Cadenas de Suministro Autonomas y Resilientes:**\n",
      "    *   **Concepto:** Múltiples agentes de IA (agentes de inventario, agentes de transporte, agentes de proveedores, agentes de producción) que colaboran, negocian y se adaptan a disrupciones en tiempo real.\n",
      "    *   **Aplicación:** Un agente de transporte detecta un retraso en un puerto; los agentes de inventario y producción recalculan automáticamente los planes, y un agente de compras negocia con proveedores alternativos, todo sin intervención humana inicial. Optimización dinámica de rutas, gestión proactiva de riesgos.\n",
      "\n",
      "2.  **Educación y Capacitación Personalizada e Hiperadaptativa:**\n",
      "    *   **Concepto:** Agentes tutores que no solo adaptan el contenido al ritmo del estudiante, sino que también identifican estilos de aprendizaje, estados emocionales (a través de la interacción) y objetivos de carrera, personalizando el camino educativo de forma profunda y dinámica.\n",
      "    *   **Aplicación:** Un agente detecta que un estudiante se estanca en un concepto de matemáticas y automáticamente le ofrece un enfoque visual diferente, un juego interactivo, o un micro-tutor en vivo si es necesario, mientras monitorea su progreso emocional. Otro agente podría recomendar oportunidades de networking o proyectos basados en los intereses y habilidades emergentes del estudiante.\n",
      "\n",
      "3.  **Gestión de Energía y Ciudades Inteligentes (Smart Grids/Cities):**\n",
      "    *   **Concepto:** Una red de agentes autónomos que gestionan el flujo de energía, el tráfico, los residuos y los servicios públicos en una ciudad o campus.\n",
      "    *   **Aplicación:** Agentes en edificios optimizan el consumo de energía en tiempo real basándose en la ocupación y las tarifas; agentes de tráfico ajustan semáforos y recomiendan rutas alternativas ante congestiones o eventos; agentes de servicios públicos predicen fallos y programan mantenimiento proactivo. Todo ello colaborando para la eficiencia general de la ciudad.\n",
      "\n",
      "4.  **Asistencia y Terapia de Salud Mental Personalizada:**\n",
      "    *   **Concepto:** Agentes de IA que actúan como \"compañeros\" de bienestar mental, ofreciendo apoyo, ejercicios de mindfulness, monitoreo de patrones de estado de ánimo y sugiriendo intervenciones o escaladas a profesionales cuando sea apropiado.\n",
      "    *   **Aplicación:** Un agente interactúa con el usuario a través de voz o texto, aprende sus desencadenantes y patrones, le ofrece herramientas de afrontamiento personalizadas y lo conecta con recursos (terapeutas, grupos de apoyo) cuando la situación lo requiere, manteniendo la privacidad y la ética en primer plano.\n",
      "\n",
      "---\n",
      "\n",
      "La clave para aplicar la IA de agentes con éxito es identificar escenarios donde la autonomía, la proactividad, la capacidad de aprendizaje y la interacción contextual son críticas, y donde múltiples \"actores\" (los agentes) pueden colaborar o competir para lograr un objetivo común.\n"
     ]
    }
   ],
   "source": [
    "# First create the messages:\n",
    "\n",
    "messages = [{\"role\": \"user\", \"content\": \"Dame un área de negocio interesante para aplicar IA de agentes\"}]\n",
    "\n",
    "# Then make the first call:\n",
    "\n",
    "response = openai.chat.completions.create(model=\"gemini-2.5-flash\", messages=messages)\n",
    "\n",
    "# Then read the business idea:\n",
    "\n",
    "business_idea = response.choices[0].message.content\n",
    "\n",
    "# And repeat! In the next message, include the business idea within the message\n",
    "print(business_idea)"
   ]
  },
  {
   "cell_type": "markdown",
   "metadata": {},
   "source": []
  },
  {
   "cell_type": "code",
   "execution_count": 16,
   "metadata": {},
   "outputs": [
    {
     "data": {
      "text/markdown": [
       "¡Excelente pregunta! La IA de agentes es fascinante porque va más allá de la mera automatización y busca sistemas capaces de percibir, razonar, actuar y aprender de forma autónoma.\n",
       "\n",
       "Aquí te presento un área de negocio muy prometedora para aplicar IA de agentes, junto con algunas otras ideas:\n",
       "\n",
       "---\n",
       "\n",
       "### **Área de Negocio Destacada: Gestión Autónoma y Proactiva de la Experiencia del Cliente (CX)**\n",
       "\n",
       "**¿Por qué es interesante para IA de Agentes?**\n",
       "Actualmente, el servicio al cliente y la gestión de la experiencia suelen ser reactivos (respondiendo a problemas) y, aunque hay chatbots, a menudo carecen de la capacidad de orquestar interacciones complejas, anticipar necesidades o resolver problemas de forma proactiva a través de múltiples canales. Los agentes de IA pueden transformar esto.\n",
       "\n",
       "**Aplicación de IA de Agentes:**\n",
       "\n",
       "1.  **Agentes de Soporte Proactivo:**\n",
       "    *   **Descripción:** En lugar de esperar a que un cliente contacte con un problema, un agente de IA monitorea activamente el comportamiento del cliente, el historial de compras, el uso del producto/servicio y las métricas de rendimiento (ej., ancho de banda de internet, estado de un dispositivo IOT).\n",
       "    *   **Acción del Agente:** Si detecta una anomalía o una tendencia que podría llevar a un problema futuro (ej., baja velocidad de internet, uso ineficiente de un software, un patrón de abandono incipiente), el agente inicia una comunicación proactiva. Esto podría ser un mensaje personalizado con una solución sugerida, un tutorial, la oferta de una actualización, o incluso la programación automática de una cita con un técnico (con el permiso del cliente).\n",
       "    *   **Ejemplo:** Un agente detecta que un cliente usa una función poco conocida de un software, pero con errores repetidos. El agente envía un mini-tutorial personalizado o sugiere un flujo de trabajo alternativo.\n",
       "\n",
       "2.  **Agentes de Orquestación de Canales (Omnicanalidad Inteligente):**\n",
       "    *   **Descripción:** Hoy en día, un cliente puede empezar una consulta por chat, pasar a teléfono, luego a email. La información se pierde, y cada interacción es un inicio. Un agente de IA podría ser el \"director de orquesta\" de la experiencia del cliente.\n",
       "    *   **Acción del Agente:** El agente no solo recuerda el contexto de la interacción anterior en cualquier canal, sino que también decide el canal más óptimo para la siguiente comunicación basándose en la preferencia del cliente, la urgencia del problema, la disponibilidad de recursos humanos y la complejidad del tema. Si una consulta de chat se vuelve demasiado compleja, el agente puede sugerir automáticamente una videollamada con un experto específico, ya con todo el contexto cargado.\n",
       "\n",
       "3.  **Agentes de Personalización Dinámica de la Oferta:**\n",
       "    *   **Descripción:** Más allá de las recomendaciones estáticas, estos agentes aprenden continuamente sobre las preferencias cambiantes del cliente, su estilo de vida, eventos vitales y comportamiento de compra.\n",
       "    *   **Acción del Agente:** No solo sugieren productos, sino que pueden \"diseñar\" ofertas personalizadas en tiempo real, negociar ligeramente precios o condiciones (dentro de parámetros predefinidos), o incluso ensamblar paquetes de servicios basados en el uso real y proyectado. Podrían predecir cuándo un cliente podría necesitar una renovación o un servicio complementario y presentarlo de forma oportuna.\n",
       "\n",
       "**Valor y Oportunidad de Negocio:**\n",
       "\n",
       "*   **Reducción de Costos:** Disminuye la carga de trabajo en los centros de llamadas al prevenir problemas y automatizar resoluciones.\n",
       "*   **Mejora de la Satisfacción del Cliente (CSAT) y Lealtad:** Experiencias más fluidas, proactivas y personalizadas generan clientes más felices y leales.\n",
       "*   **Aumento de Ingresos:** Al predecir necesidades y ofrecer soluciones relevantes de forma oportuna, se pueden generar nuevas ventas y retener a los clientes existentes.\n",
       "*   **Diferenciación Competitiva:** Ofrecer un nivel de servicio y personalización que la mayoría de las empresas no pueden igualar.\n",
       "\n",
       "**Desafíos:**\n",
       "\n",
       "*   **Integración de Datos:** Necesidad de acceder a silos de datos (CRM, ERP, datos de uso de productos, redes sociales).\n",
       "*   **Confianza del Cliente:** Balancear la proactividad con la percepción de \"vigilancia\" o invasión de la privacidad.\n",
       "*   **Manejo de Excepciones:** Los agentes deben saber cuándo escalar a un humano y proporcionar todo el contexto necesario.\n",
       "*   **Desarrollo de Agentes Robusto:** Crear agentes que puedan razonar, planificar y aprender en entornos complejos y dinámicos.\n",
       "\n",
       "---\n",
       "\n",
       "### **Otras Áreas de Negocio Interesantes para IA de Agentes:**\n",
       "\n",
       "1.  **Gestión de Cadenas de Suministro Autonomas y Resilientes:**\n",
       "    *   **Concepto:** Múltiples agentes de IA (agentes de inventario, agentes de transporte, agentes de proveedores, agentes de producción) que colaboran, negocian y se adaptan a disrupciones en tiempo real.\n",
       "    *   **Aplicación:** Un agente de transporte detecta un retraso en un puerto; los agentes de inventario y producción recalculan automáticamente los planes, y un agente de compras negocia con proveedores alternativos, todo sin intervención humana inicial. Optimización dinámica de rutas, gestión proactiva de riesgos.\n",
       "\n",
       "2.  **Educación y Capacitación Personalizada e Hiperadaptativa:**\n",
       "    *   **Concepto:** Agentes tutores que no solo adaptan el contenido al ritmo del estudiante, sino que también identifican estilos de aprendizaje, estados emocionales (a través de la interacción) y objetivos de carrera, personalizando el camino educativo de forma profunda y dinámica.\n",
       "    *   **Aplicación:** Un agente detecta que un estudiante se estanca en un concepto de matemáticas y automáticamente le ofrece un enfoque visual diferente, un juego interactivo, o un micro-tutor en vivo si es necesario, mientras monitorea su progreso emocional. Otro agente podría recomendar oportunidades de networking o proyectos basados en los intereses y habilidades emergentes del estudiante.\n",
       "\n",
       "3.  **Gestión de Energía y Ciudades Inteligentes (Smart Grids/Cities):**\n",
       "    *   **Concepto:** Una red de agentes autónomos que gestionan el flujo de energía, el tráfico, los residuos y los servicios públicos en una ciudad o campus.\n",
       "    *   **Aplicación:** Agentes en edificios optimizan el consumo de energía en tiempo real basándose en la ocupación y las tarifas; agentes de tráfico ajustan semáforos y recomiendan rutas alternativas ante congestiones o eventos; agentes de servicios públicos predicen fallos y programan mantenimiento proactivo. Todo ello colaborando para la eficiencia general de la ciudad.\n",
       "\n",
       "4.  **Asistencia y Terapia de Salud Mental Personalizada:**\n",
       "    *   **Concepto:** Agentes de IA que actúan como \"compañeros\" de bienestar mental, ofreciendo apoyo, ejercicios de mindfulness, monitoreo de patrones de estado de ánimo y sugiriendo intervenciones o escaladas a profesionales cuando sea apropiado.\n",
       "    *   **Aplicación:** Un agente interactúa con el usuario a través de voz o texto, aprende sus desencadenantes y patrones, le ofrece herramientas de afrontamiento personalizadas y lo conecta con recursos (terapeutas, grupos de apoyo) cuando la situación lo requiere, manteniendo la privacidad y la ética en primer plano.\n",
       "\n",
       "---\n",
       "\n",
       "La clave para aplicar la IA de agentes con éxito es identificar escenarios donde la autonomía, la proactividad, la capacidad de aprendizaje y la interacción contextual son críticas, y donde múltiples \"actores\" (los agentes) pueden colaborar o competir para lograr un objetivo común."
      ],
      "text/plain": [
       "<IPython.core.display.Markdown object>"
      ]
     },
     "metadata": {},
     "output_type": "display_data"
    }
   ],
   "source": [
    "from IPython.display import Markdown, display\n",
    "\n",
    "display(Markdown(business_idea))"
   ]
  }
 ],
 "metadata": {
  "kernelspec": {
   "display_name": ".venv",
   "language": "python",
   "name": "python3"
  },
  "language_info": {
   "codemirror_mode": {
    "name": "ipython",
    "version": 3
   },
   "file_extension": ".py",
   "mimetype": "text/x-python",
   "name": "python",
   "nbconvert_exporter": "python",
   "pygments_lexer": "ipython3",
   "version": "3.12.10"
  }
 },
 "nbformat": 4,
 "nbformat_minor": 2
}
